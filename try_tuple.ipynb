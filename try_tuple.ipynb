{
 "cells": [
  {
   "cell_type": "code",
   "execution_count": 6,
   "metadata": {},
   "outputs": [
    {
     "data": {
      "text/plain": [
       "False"
      ]
     },
     "execution_count": 6,
     "metadata": {},
     "output_type": "execute_result"
    }
   ],
   "source": [
    "import numpy as np\n",
    "\n",
    "a = (1, 'pom')\n",
    "b = ((1,2,3),('a','b','c'),(True,True,False))\n",
    "b[2][2]\n"
   ]
  },
  {
   "cell_type": "code",
   "execution_count": 8,
   "metadata": {},
   "outputs": [
    {
     "name": "stdout",
     "output_type": "stream",
     "text": [
      "(1, 2, 3)\n",
      "('a', 'b', 'c')\n",
      "(True, True, False)\n",
      "x:1, y:2, z:3\n",
      "x:a, y:b, z:c\n",
      "x:True, y:True, z:False\n"
     ]
    }
   ],
   "source": [
    "for data in b:\n",
    "    print(data)\n",
    "for x,y,z in b:\n",
    "    print(f'x:{x}, y:{y}, z:{z}')"
   ]
  },
  {
   "cell_type": "code",
   "execution_count": 10,
   "metadata": {},
   "outputs": [
    {
     "data": {
      "text/plain": [
       "'qomadded'"
      ]
     },
     "execution_count": 10,
     "metadata": {},
     "output_type": "execute_result"
    }
   ],
   "source": [
    "def test_tuple(param):\n",
    "    return param[0] + 1, param[1] + 'added'\n",
    "c, d = test_tuple((3, 'qom'))\n",
    "c\n",
    "d"
   ]
  },
  {
   "cell_type": "code",
   "execution_count": 12,
   "metadata": {},
   "outputs": [
    {
     "name": "stdout",
     "output_type": "stream",
     "text": [
      "合計値：50\n",
      "平均値：12.5\n"
     ]
    }
   ],
   "source": [
    "def test_tuple2(test):\n",
    "    tests_array = np.array(test)\n",
    "    total = np.sum(tests_array)\n",
    "    average = np.mean(tests_array)\n",
    "    return total, average\n",
    "c = (5,10,15,20)\n",
    "total, average = test_tuple2(c)\n",
    "print(f'合計値：{total}')\n",
    "print(f'平均値：{average}')"
   ]
  }
 ],
 "metadata": {
  "kernelspec": {
   "display_name": "venv",
   "language": "python",
   "name": "python3"
  },
  "language_info": {
   "codemirror_mode": {
    "name": "ipython",
    "version": 3
   },
   "file_extension": ".py",
   "mimetype": "text/x-python",
   "name": "python",
   "nbconvert_exporter": "python",
   "pygments_lexer": "ipython3",
   "version": "3.10.6"
  }
 },
 "nbformat": 4,
 "nbformat_minor": 2
}
