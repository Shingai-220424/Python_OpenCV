{
 "cells": [
  {
   "cell_type": "code",
   "execution_count": 4,
   "metadata": {},
   "outputs": [
    {
     "data": {
      "text/plain": [
       "True"
      ]
     },
     "execution_count": 4,
     "metadata": {},
     "output_type": "execute_result"
    }
   ],
   "source": [
    "import numpy as np\n",
    "import cv2\n",
    "\n",
    "face_cascade = cv2.CascadeClassifier('./haarcascade_frontalface_default.xml')\n",
    "eye_cascade = cv2.CascadeClassifier('./haarcascade_eye.xml')\n",
    "src = cv2.imread('./sample.jpg', 0)\n",
    "faces = face_cascade.detectMultiScale(src)\n",
    "for x,y,w,h in faces:\n",
    "    cv2.rectangle(src, (x,y),(x + w,y + h), (255,255,255), 1)\n",
    "    face = src[y: y + h, x: x + w]\n",
    "    eyes = eye_cascade.detectMultiScale(face)\n",
    "    for (ex,ey,ew,eh) in eyes:\n",
    "        cv2.rectangle(face, (ex,ey),(ex + ew, ey + eh), (255,255,255), 1)\n",
    "cv2.imwrite('facedetect_result.jpg', src)"
   ]
  },
  {
   "cell_type": "code",
   "execution_count": 6,
   "metadata": {},
   "outputs": [
    {
     "data": {
      "text/plain": [
       "True"
      ]
     },
     "execution_count": 6,
     "metadata": {},
     "output_type": "execute_result"
    }
   ],
   "source": [
    "faces = face_cascade.detectMultiScale(src, scaleFactor=1.1, minNeighbors=5, minSize=(30, 30))\n",
    "\n",
    "# 検出された顔に矩形を描画して目を検出\n",
    "for (x, y, w, h) in faces:\n",
    "    cv2.rectangle(src, (x, y), (x + w, y + h), (255, 0, 0), 2)\n",
    "    face = src[y:y + h, x:x + w]\n",
    "    eyes = eye_cascade.detectMultiScale(face)\n",
    "    for (ex, ey, ew, eh) in eyes:\n",
    "        cv2.rectangle(face, (ex, ey), (ex + ew, ey + eh), (0, 255, 0), 2)\n",
    "\n",
    "# 結果を保存\n",
    "cv2.imwrite('facedetect_result2.jpg', src)\n"
   ]
  }
 ],
 "metadata": {
  "kernelspec": {
   "display_name": "venv",
   "language": "python",
   "name": "python3"
  },
  "language_info": {
   "codemirror_mode": {
    "name": "ipython",
    "version": 3
   },
   "file_extension": ".py",
   "mimetype": "text/x-python",
   "name": "python",
   "nbconvert_exporter": "python",
   "pygments_lexer": "ipython3",
   "version": "3.10.6"
  }
 },
 "nbformat": 4,
 "nbformat_minor": 2
}
